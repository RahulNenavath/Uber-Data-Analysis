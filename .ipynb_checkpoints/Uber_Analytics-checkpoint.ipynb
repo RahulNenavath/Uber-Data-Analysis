{
 "cells": [
  {
   "cell_type": "markdown",
   "metadata": {
    "colab_type": "text",
    "id": "-u_AgL10tw6Z"
   },
   "source": [
    "#Import necessary packages:"
   ]
  },
  {
   "cell_type": "code",
   "execution_count": 4,
   "metadata": {
    "colab": {
     "base_uri": "https://localhost:8080/",
     "height": 224
    },
    "colab_type": "code",
    "id": "SMTJJyDSgbNT",
    "outputId": "0eb2052c-87c3-4cf7-a9c5-8318f8263bf2"
   },
   "outputs": [
    {
     "name": "stderr",
     "output_type": "stream",
     "text": [
      "/usr/local/lib/python3.6/dist-packages/statsmodels/tools/_testing.py:19: FutureWarning: pandas.util.testing is deprecated. Use the functions in the public API at pandas.testing instead.\n",
      "  import pandas.util.testing as tm\n"
     ]
    },
    {
     "name": "stdout",
     "output_type": "stream",
     "text": [
      "Collecting h3\n",
      "  Downloading https://files.pythonhosted.org/packages/98/2a/704b2db80465ce3a412d6c94f1c1658cffbbb4e76c5c03bb133f588cc131/h3-3.4.3.tar.gz\n",
      "Building wheels for collected packages: h3\n",
      "  Building wheel for h3 (setup.py) ... \u001b[?25l\u001b[?25hdone\n",
      "  Created wheel for h3: filename=h3-3.4.3-cp36-cp36m-linux_x86_64.whl size=81855 sha256=7e9e2d4f2177820e1c19dd05dacca399bcf785825dba66ad990ced0ea1540450\n",
      "  Stored in directory: /root/.cache/pip/wheels/7f/8e/74/c5ae2b6a5e3f28239b9bea822e38a08075a5eb05589a0d2a7c\n",
      "Successfully built h3\n",
      "Installing collected packages: h3\n",
      "Successfully installed h3-3.4.3\n"
     ]
    }
   ],
   "source": [
    "import os\n",
    "import zipfile\n",
    "import numpy as np\n",
    "import pandas as pd\n",
    "import matplotlib.pyplot as plt\n",
    "from matplotlib.pyplot import figure\n",
    "import seaborn as sns\n",
    "import datetime\n",
    "import math\n",
    "from sklearn.impute import KNNImputer\n",
    "\n",
    "#!pip install h3 #( Uncomment for the first time cell execution )\n",
    "from h3 import h3\n",
    "import folium \n",
    "import webbrowser\n",
    "import branca.colormap as cm"
   ]
  },
  {
   "cell_type": "markdown",
   "metadata": {
    "colab_type": "text",
    "id": "0ZbGOcKJt9WT"
   },
   "source": [
    "# Extract the data and read it:"
   ]
  },
  {
   "cell_type": "code",
   "execution_count": 0,
   "metadata": {
    "colab": {},
    "colab_type": "code",
    "id": "zg565fz9eSks"
   },
   "outputs": [],
   "source": [
    "local_zip = '/content/Uber_Data.zip'\n",
    "zip_ref = zipfile.ZipFile(local_zip, 'r')\n",
    "\n",
    "zip_ref.extractall('/tmp/Uber_data')\n",
    "\n",
    "zip_ref.close()"
   ]
  },
  {
   "cell_type": "code",
   "execution_count": 0,
   "metadata": {
    "colab": {},
    "colab_type": "code",
    "id": "iqSBDOUsgWvB"
   },
   "outputs": [],
   "source": [
    "DATA = pd.read_csv('/tmp/Uber_data/Uber Data/Rider/trips_data.csv')"
   ]
  },
  {
   "cell_type": "markdown",
   "metadata": {
    "colab_type": "text",
    "id": "6BzTZSXEucqI"
   },
   "source": [
    "# Descriptive Stats:"
   ]
  },
  {
   "cell_type": "code",
   "execution_count": 16,
   "metadata": {
    "colab": {
     "base_uri": "https://localhost:8080/",
     "height": 247
    },
    "colab_type": "code",
    "id": "2KGjMMpYvJ3v",
    "outputId": "1ddfff89-b1f5-4382-ee93-dd8cc0b2f42f"
   },
   "outputs": [
    {
     "data": {
      "text/html": [
       "<div>\n",
       "<style scoped>\n",
       "    .dataframe tbody tr th:only-of-type {\n",
       "        vertical-align: middle;\n",
       "    }\n",
       "\n",
       "    .dataframe tbody tr th {\n",
       "        vertical-align: top;\n",
       "    }\n",
       "\n",
       "    .dataframe thead th {\n",
       "        text-align: right;\n",
       "    }\n",
       "</style>\n",
       "<table border=\"1\" class=\"dataframe\">\n",
       "  <thead>\n",
       "    <tr style=\"text-align: right;\">\n",
       "      <th></th>\n",
       "      <th>City</th>\n",
       "      <th>Product Type</th>\n",
       "      <th>Trip or Order Status</th>\n",
       "      <th>Request Time</th>\n",
       "      <th>Begin Trip Time</th>\n",
       "      <th>Begin Trip Lat</th>\n",
       "      <th>Begin Trip Lng</th>\n",
       "      <th>Begin Trip Address</th>\n",
       "      <th>Dropoff Time</th>\n",
       "      <th>Dropoff Lat</th>\n",
       "      <th>Dropoff Lng</th>\n",
       "      <th>Dropoff Address</th>\n",
       "      <th>Distance (miles)</th>\n",
       "      <th>Fare Amount</th>\n",
       "      <th>Fare Currency</th>\n",
       "    </tr>\n",
       "  </thead>\n",
       "  <tbody>\n",
       "    <tr>\n",
       "      <th>0</th>\n",
       "      <td>Chennai</td>\n",
       "      <td>UberGo</td>\n",
       "      <td>COMPLETED</td>\n",
       "      <td>2020-03-14 14:32:57 +0000 UTC</td>\n",
       "      <td>2020-03-14 14:37:24 +0000 UTC</td>\n",
       "      <td>12.921608</td>\n",
       "      <td>80.128456</td>\n",
       "      <td>Kaveri St, Jayasamy Nagar, Tambaram East, Tamb...</td>\n",
       "      <td>2020-03-14 15:06:43 +0000 UTC</td>\n",
       "      <td>12.840779</td>\n",
       "      <td>80.137059</td>\n",
       "      <td>Melakottaiyur Village,Near Kandigai, Off Vanda...</td>\n",
       "      <td>10.48</td>\n",
       "      <td>236.65</td>\n",
       "      <td>INR</td>\n",
       "    </tr>\n",
       "    <tr>\n",
       "      <th>1</th>\n",
       "      <td>Chennai</td>\n",
       "      <td>UberGo</td>\n",
       "      <td>COMPLETED</td>\n",
       "      <td>2020-03-14 11:47:55 +0000 UTC</td>\n",
       "      <td>2020-03-14 12:03:37 +0000 UTC</td>\n",
       "      <td>12.835309</td>\n",
       "      <td>80.135984</td>\n",
       "      <td>Ashoka Hostel (Boys), Vengadamangalam, Tamil N...</td>\n",
       "      <td>2020-03-14 12:52:32 +0000 UTC</td>\n",
       "      <td>12.921531</td>\n",
       "      <td>80.128281</td>\n",
       "      <td>Kaveri St, Jayasamy Nagar, Tambaram East, Tamb...</td>\n",
       "      <td>13.07</td>\n",
       "      <td>257.16</td>\n",
       "      <td>INR</td>\n",
       "    </tr>\n",
       "  </tbody>\n",
       "</table>\n",
       "</div>"
      ],
      "text/plain": [
       "      City Product Type  ... Fare Amount Fare Currency\n",
       "0  Chennai       UberGo  ...      236.65           INR\n",
       "1  Chennai       UberGo  ...      257.16           INR\n",
       "\n",
       "[2 rows x 15 columns]"
      ]
     },
     "execution_count": 16,
     "metadata": {
      "tags": []
     },
     "output_type": "execute_result"
    }
   ],
   "source": [
    "DATA.head(2)"
   ]
  },
  {
   "cell_type": "markdown",
   "metadata": {
    "colab_type": "text",
    "id": "_-pab-kquiTL"
   },
   "source": [
    "So when we look into our data, we see a good mix of both categorical and Numerical features. \n",
    "* Total Records are 236.\n",
    "* Total Columns are 15."
   ]
  },
  {
   "cell_type": "code",
   "execution_count": 17,
   "metadata": {
    "colab": {
     "base_uri": "https://localhost:8080/",
     "height": 391
    },
    "colab_type": "code",
    "id": "dUpFBkCwuZRQ",
    "outputId": "3f7b7c30-fe9a-4610-cb81-9da9e82ad005"
   },
   "outputs": [
    {
     "name": "stdout",
     "output_type": "stream",
     "text": [
      "<class 'pandas.core.frame.DataFrame'>\n",
      "RangeIndex: 236 entries, 0 to 235\n",
      "Data columns (total 15 columns):\n",
      " #   Column                Non-Null Count  Dtype  \n",
      "---  ------                --------------  -----  \n",
      " 0   City                  236 non-null    object \n",
      " 1   Product Type          206 non-null    object \n",
      " 2   Trip or Order Status  236 non-null    object \n",
      " 3   Request Time          236 non-null    object \n",
      " 4   Begin Trip Time       236 non-null    object \n",
      " 5   Begin Trip Lat        152 non-null    float64\n",
      " 6   Begin Trip Lng        152 non-null    float64\n",
      " 7   Begin Trip Address    86 non-null     object \n",
      " 8   Dropoff Time          236 non-null    object \n",
      " 9   Dropoff Lat           152 non-null    float64\n",
      " 10  Dropoff Lng           152 non-null    float64\n",
      " 11  Dropoff Address       235 non-null    object \n",
      " 12  Distance (miles)      236 non-null    float64\n",
      " 13  Fare Amount           236 non-null    float64\n",
      " 14  Fare Currency         235 non-null    object \n",
      "dtypes: float64(6), object(9)\n",
      "memory usage: 27.8+ KB\n"
     ]
    }
   ],
   "source": [
    "DATA.info()"
   ]
  },
  {
   "cell_type": "markdown",
   "metadata": {
    "colab_type": "text",
    "id": "5APQYvKTuCF9"
   },
   "source": [
    "#Data Cleaning:"
   ]
  },
  {
   "cell_type": "markdown",
   "metadata": {
    "colab_type": "text",
    "id": "nz3v6PzNuEwr"
   },
   "source": [
    "Found out the time enlapsed which is nothing but trip duration."
   ]
  },
  {
   "cell_type": "code",
   "execution_count": 18,
   "metadata": {
    "colab": {
     "base_uri": "https://localhost:8080/",
     "height": 281
    },
    "colab_type": "code",
    "id": "N_651ly5S1YI",
    "outputId": "1ada0a04-b47e-4c65-841c-f061a68e5a49"
   },
   "outputs": [
    {
     "data": {
      "text/html": [
       "<div>\n",
       "<style scoped>\n",
       "    .dataframe tbody tr th:only-of-type {\n",
       "        vertical-align: middle;\n",
       "    }\n",
       "\n",
       "    .dataframe tbody tr th {\n",
       "        vertical-align: top;\n",
       "    }\n",
       "\n",
       "    .dataframe thead th {\n",
       "        text-align: right;\n",
       "    }\n",
       "</style>\n",
       "<table border=\"1\" class=\"dataframe\">\n",
       "  <thead>\n",
       "    <tr style=\"text-align: right;\">\n",
       "      <th></th>\n",
       "      <th>City</th>\n",
       "      <th>Product Type</th>\n",
       "      <th>Trip or Order Status</th>\n",
       "      <th>Request Time</th>\n",
       "      <th>Begin Trip Time</th>\n",
       "      <th>Begin Trip Lat</th>\n",
       "      <th>Begin Trip Lng</th>\n",
       "      <th>Begin Trip Address</th>\n",
       "      <th>Dropoff Time</th>\n",
       "      <th>Dropoff Lat</th>\n",
       "      <th>Dropoff Lng</th>\n",
       "      <th>Dropoff Address</th>\n",
       "      <th>Distance (miles)</th>\n",
       "      <th>Fare Amount</th>\n",
       "      <th>Fare Currency</th>\n",
       "      <th>Time Enlapsed</th>\n",
       "    </tr>\n",
       "  </thead>\n",
       "  <tbody>\n",
       "    <tr>\n",
       "      <th>0</th>\n",
       "      <td>Chennai</td>\n",
       "      <td>UberGo</td>\n",
       "      <td>COMPLETED</td>\n",
       "      <td>2020-03-14 14:32:57 +0000 UTC</td>\n",
       "      <td>2020-03-14 14:37:24 +0000 UTC</td>\n",
       "      <td>12.921608</td>\n",
       "      <td>80.128456</td>\n",
       "      <td>Kaveri St, Jayasamy Nagar, Tambaram East, Tamb...</td>\n",
       "      <td>2020-03-14 15:06:43 +0000 UTC</td>\n",
       "      <td>12.840779</td>\n",
       "      <td>80.137059</td>\n",
       "      <td>Melakottaiyur Village,Near Kandigai, Off Vanda...</td>\n",
       "      <td>10.48</td>\n",
       "      <td>236.65</td>\n",
       "      <td>INR</td>\n",
       "      <td>00:29:19</td>\n",
       "    </tr>\n",
       "    <tr>\n",
       "      <th>1</th>\n",
       "      <td>Chennai</td>\n",
       "      <td>UberGo</td>\n",
       "      <td>COMPLETED</td>\n",
       "      <td>2020-03-14 11:47:55 +0000 UTC</td>\n",
       "      <td>2020-03-14 12:03:37 +0000 UTC</td>\n",
       "      <td>12.835309</td>\n",
       "      <td>80.135984</td>\n",
       "      <td>Ashoka Hostel (Boys), Vengadamangalam, Tamil N...</td>\n",
       "      <td>2020-03-14 12:52:32 +0000 UTC</td>\n",
       "      <td>12.921531</td>\n",
       "      <td>80.128281</td>\n",
       "      <td>Kaveri St, Jayasamy Nagar, Tambaram East, Tamb...</td>\n",
       "      <td>13.07</td>\n",
       "      <td>257.16</td>\n",
       "      <td>INR</td>\n",
       "      <td>00:48:55</td>\n",
       "    </tr>\n",
       "  </tbody>\n",
       "</table>\n",
       "</div>"
      ],
      "text/plain": [
       "      City Product Type  ... Fare Currency Time Enlapsed\n",
       "0  Chennai       UberGo  ...           INR      00:29:19\n",
       "1  Chennai       UberGo  ...           INR      00:48:55\n",
       "\n",
       "[2 rows x 16 columns]"
      ]
     },
     "execution_count": 18,
     "metadata": {
      "tags": []
     },
     "output_type": "execute_result"
    }
   ],
   "source": [
    "l = []\n",
    "for i in range(len(DATA)):\n",
    "  x,y,z = DATA['Begin Trip Time'][i],DATA['Dropoff Time'][i], DATA['Trip or Order Status'][i]\n",
    "  \n",
    "  begin_time = datetime.datetime.strptime(x, \"%Y-%m-%d %H:%M:%S +0000 UTC\")\n",
    "  drop_time = datetime.datetime.strptime(y, \"%Y-%m-%d %H:%M:%S +0000 UTC\")\n",
    "\n",
    "  time_enlapsed = drop_time - begin_time\n",
    "\n",
    "  l.append(time_enlapsed)\n",
    "\n",
    "DATA['Time Enlapsed'] = l\n",
    "DATA.head(2)"
   ]
  },
  {
   "cell_type": "markdown",
   "metadata": {
    "colab_type": "text",
    "id": "PEPVX4YNwzrV"
   },
   "source": [
    "Finding the missing value percentage and quering out the percentages above 0."
   ]
  },
  {
   "cell_type": "code",
   "execution_count": 0,
   "metadata": {
    "colab": {},
    "colab_type": "code",
    "id": "YahrbPJARKL2"
   },
   "outputs": [],
   "source": [
    "def missing_values(DATA):\n",
    "  x = DATA.isnull().sum()\n",
    "  missing_value_per = x / len(DATA)\n",
    "  missing_value_per = missing_value_per[missing_value_per > 0.0]\n",
    "  print(missing_value_per)"
   ]
  },
  {
   "cell_type": "code",
   "execution_count": 20,
   "metadata": {
    "colab": {
     "base_uri": "https://localhost:8080/",
     "height": 170
    },
    "colab_type": "code",
    "id": "je3wfidAStJJ",
    "outputId": "511b9cec-6a3b-4e93-b0ef-e639fd3ca7de"
   },
   "outputs": [
    {
     "name": "stdout",
     "output_type": "stream",
     "text": [
      "Product Type          0.127119\n",
      "Begin Trip Lat        0.355932\n",
      "Begin Trip Lng        0.355932\n",
      "Begin Trip Address    0.635593\n",
      "Dropoff Lat           0.355932\n",
      "Dropoff Lng           0.355932\n",
      "Dropoff Address       0.004237\n",
      "Fare Currency         0.004237\n",
      "dtype: float64\n"
     ]
    }
   ],
   "source": [
    "missing_values(DATA)"
   ]
  },
  {
   "cell_type": "markdown",
   "metadata": {
    "colab_type": "text",
    "id": "ajfW-uMf1_Fq"
   },
   "source": [
    "We need to clean the strings in Product Type as there are one Product with multiple different names, like Uber GO is recorded as GO, uberGO, UberGo. So lets clean them and make a single entry for all the silimar records. "
   ]
  },
  {
   "cell_type": "code",
   "execution_count": 21,
   "metadata": {
    "colab": {
     "base_uri": "https://localhost:8080/",
     "height": 51
    },
    "colab_type": "code",
    "id": "MxOl4xDe1mT_",
    "outputId": "cfdb2b52-ead8-4505-db3c-c044bc533721"
   },
   "outputs": [
    {
     "data": {
      "text/plain": [
       "array(['UberGo', 'Moto', nan, 'Pool', 'UberXL', 'Premier', 'GO', 'XL',\n",
       "       'uberGO'], dtype=object)"
      ]
     },
     "execution_count": 21,
     "metadata": {
      "tags": []
     },
     "output_type": "execute_result"
    }
   ],
   "source": [
    "DATA['Product Type'].unique()"
   ]
  },
  {
   "cell_type": "code",
   "execution_count": 0,
   "metadata": {
    "colab": {},
    "colab_type": "code",
    "id": "tX29qWdV1kSo"
   },
   "outputs": [],
   "source": [
    "DATA['Product Type'].replace('GO','UberGO',inplace=True)\n",
    "DATA['Product Type'].replace('UberGo','UberGO',inplace=True)\n",
    "DATA['Product Type'].replace('uberGO','UberGO',inplace=True)\n",
    "\n",
    "DATA['Product Type'].replace('XL','UberXL',inplace=True)\n",
    "\n",
    "DATA['Product Type'].replace('Pool','UberPOOL',inplace=True)\n",
    "\n",
    "DATA['Product Type'].replace('Premier','UberPREMIER',inplace=True)\n",
    "\n",
    "DATA['Product Type'].replace('Moto','UberMOTO',inplace=True)"
   ]
  },
  {
   "cell_type": "markdown",
   "metadata": {
    "colab_type": "text",
    "id": "uNX9R5C4w_Aw"
   },
   "source": [
    "# Data Visualization:"
   ]
  },
  {
   "cell_type": "code",
   "execution_count": 13,
   "metadata": {
    "colab": {
     "base_uri": "https://localhost:8080/",
     "height": 528
    },
    "colab_type": "code",
    "id": "PtcP6zgs1sgm",
    "outputId": "1458173c-829b-42ef-d8c8-782ee8b04a85"
   },
   "outputs": [
    {
     "data": {
      "text/plain": [
       "<matplotlib.axes._subplots.AxesSubplot at 0x7fa33b682940>"
      ]
     },
     "execution_count": 13,
     "metadata": {
      "tags": []
     },
     "output_type": "execute_result"
    },
    {
     "data": {
      "image/png": "[encoded data removed]",
      "text/plain": [
       "<Figure size 842.4x595.44 with 1 Axes>"
      ]
     },
     "metadata": {
      "needs_background": "light",
      "tags": []
     },
     "output_type": "display_data"
    }
   ],
   "source": [
    "a4_dims = (11.7, 8.27)\n",
    "fig, ax = plt.subplots(figsize=a4_dims)\n",
    "\n",
    "sns.boxplot(DATA['Product Type'],DATA['Fare Amount'], ax=ax)"
   ]
  },
  {
   "cell_type": "markdown",
   "metadata": {
    "colab_type": "text",
    "id": "XPHsdLf1xCGr"
   },
   "source": [
    "Well that goes to say that the price range of Uber Go is generally near 200 Rs and Uber Moto is very affordable single seater product of Uber ( Highly recommended if one is travelling single in the city :D ). Well I have used Uber XL only when its cheaper than UberGO ( Explains my financial status :D ). Didnt use Uber Premium at all. "
   ]
  },
  {
   "cell_type": "code",
   "execution_count": 23,
   "metadata": {
    "colab": {
     "base_uri": "https://localhost:8080/",
     "height": 528
    },
    "colab_type": "code",
    "id": "Iu96nEZu4RvL",
    "outputId": "168130f5-f9e4-44ba-e117-b39acf9fb4ba"
   },
   "outputs": [
    {
     "data": {
      "text/plain": [
       "<matplotlib.axes._subplots.AxesSubplot at 0x7fe9ed013860>"
      ]
     },
     "execution_count": 23,
     "metadata": {
      "tags": []
     },
     "output_type": "execute_result"
    },
    {
     "data": {
      "image/png": "[encoded data removed]",
      "text/plain": [
       "<Figure size 842.4x595.44 with 1 Axes>"
      ]
     },
     "metadata": {
      "needs_background": "light",
      "tags": []
     },
     "output_type": "display_data"
    }
   ],
   "source": [
    "a4_dims = (11.7, 8.27)\n",
    "fig, ax = plt.subplots(figsize=a4_dims)\n",
    "\n",
    "sns.boxplot(DATA['City'],DATA['Fare Amount'], ax=ax)"
   ]
  },
  {
   "cell_type": "markdown",
   "metadata": {
    "colab_type": "text",
    "id": "G6ZoqAFixnQR"
   },
   "source": [
    "Looking at the above vizualization we see that prices in Hyderabad are way more costlier than Chennai. It can also be that I have used Uber in Hyderabad only when i want to go somewhere very far."
   ]
  },
  {
   "cell_type": "code",
   "execution_count": 41,
   "metadata": {
    "colab": {
     "base_uri": "https://localhost:8080/",
     "height": 344
    },
    "colab_type": "code",
    "id": "G_Onsq3uvjA9",
    "outputId": "d65c5745-961a-4204-f096-2d11f4d43609"
   },
   "outputs": [
    {
     "data": {
      "text/plain": [
       "<matplotlib.axes._subplots.AxesSubplot at 0x7fe9eb64cf60>"
      ]
     },
     "execution_count": 41,
     "metadata": {
      "tags": []
     },
     "output_type": "execute_result"
    },
    {
     "data": {
      "image/png": "[encoded data removed]",
      "text/plain": [
       "<Figure size 432x288 with 1 Axes>"
      ]
     },
     "metadata": {
      "needs_background": "light",
      "tags": []
     },
     "output_type": "display_data"
    }
   ],
   "source": [
    "DATA.groupby('City').count()['Distance (miles)'].plot.bar()\n"
   ]
  },
  {
   "cell_type": "markdown",
   "metadata": {
    "colab_type": "text",
    "id": "7EoTc26B5CMH"
   },
   "source": [
    "Looking at the above plot we see that I have travelled more in in Chennai than in other cities. Well that goes to solidify the fact that I'm in chennai for most of the time."
   ]
  },
  {
   "cell_type": "code",
   "execution_count": 15,
   "metadata": {
    "colab": {
     "base_uri": "https://localhost:8080/",
     "height": 528
    },
    "colab_type": "code",
    "id": "qoj7kArL5Ilp",
    "outputId": "97c07bee-2680-4b13-89fc-e99b53905870"
   },
   "outputs": [
    {
     "data": {
      "text/plain": [
       "<matplotlib.axes._subplots.AxesSubplot at 0x7fa33b6821d0>"
      ]
     },
     "execution_count": 15,
     "metadata": {
      "tags": []
     },
     "output_type": "execute_result"
    },
    {
     "data": {
      "image/png": "[encoded data removed]",
      "text/plain": [
       "<Figure size 842.4x595.44 with 1 Axes>"
      ]
     },
     "metadata": {
      "needs_background": "light",
      "tags": []
     },
     "output_type": "display_data"
    }
   ],
   "source": [
    "a4_dims = (11.7, 8.27)\n",
    "fig, ax = plt.subplots(figsize=a4_dims)\n",
    "\n",
    "sns.regplot(DATA['Distance (miles)'],DATA['Fare Amount'], ax=ax)"
   ]
  },
  {
   "cell_type": "markdown",
   "metadata": {
    "colab_type": "text",
    "id": "KlKNwTCU8K74"
   },
   "source": [
    "Another Obvious Fact that as the Distance increases, the Fare increses."
   ]
  },
  {
   "cell_type": "code",
   "execution_count": 16,
   "metadata": {
    "colab": {
     "base_uri": "https://localhost:8080/",
     "height": 529
    },
    "colab_type": "code",
    "id": "YixeKpCQ5htF",
    "outputId": "e38f62ff-4c34-4926-f126-01d7d2d49548"
   },
   "outputs": [
    {
     "data": {
      "text/plain": [
       "<matplotlib.axes._subplots.AxesSubplot at 0x7fa337861d68>"
      ]
     },
     "execution_count": 16,
     "metadata": {
      "tags": []
     },
     "output_type": "execute_result"
    },
    {
     "data": {
      "image/png": "[encoded data removed]",
      "text/plain": [
       "<Figure size 842.4x595.44 with 1 Axes>"
      ]
     },
     "metadata": {
      "needs_background": "light",
      "tags": []
     },
     "output_type": "display_data"
    }
   ],
   "source": [
    "a4_dims = (11.7, 8.27)\n",
    "fig, ax = plt.subplots(figsize=a4_dims)\n",
    "\n",
    "sns.countplot(DATA['Trip or Order Status'], ax=ax)"
   ]
  },
  {
   "cell_type": "markdown",
   "metadata": {
    "colab_type": "text",
    "id": "-8xhffOl8Q2x"
   },
   "source": [
    "Most of my trips were cancelled."
   ]
  },
  {
   "cell_type": "code",
   "execution_count": 17,
   "metadata": {
    "colab": {
     "base_uri": "https://localhost:8080/",
     "height": 577
    },
    "colab_type": "code",
    "id": "HKYU0SFH_MIf",
    "outputId": "8310cd08-5fa0-41ed-cc3a-63e2e3957041"
   },
   "outputs": [
    {
     "data": {
      "text/plain": [
       "(array([-1.8e+18, -1.6e+18, -1.4e+18, -1.2e+18, -1.0e+18, -8.0e+17,\n",
       "        -6.0e+17, -4.0e+17, -2.0e+17,  0.0e+00,  2.0e+17]),\n",
       " <a list of 11 Text major ticklabel objects>)"
      ]
     },
     "execution_count": 17,
     "metadata": {
      "tags": []
     },
     "output_type": "execute_result"
    },
    {
     "data": {
      "image/png": "[encoded data removed]",
      "text/plain": [
       "<Figure size 842.4x595.44 with 1 Axes>"
      ]
     },
     "metadata": {
      "needs_background": "light",
      "tags": []
     },
     "output_type": "display_data"
    }
   ],
   "source": [
    "a4_dims = (11.7, 8.27)\n",
    "fig, ax = plt.subplots(figsize=a4_dims)\n",
    "\n",
    "sns.lineplot(DATA['Time Enlapsed'],DATA['Fare Amount'], ax=ax)\n",
    "plt.xticks(rotation=90)"
   ]
  },
  {
   "cell_type": "markdown",
   "metadata": {
    "colab_type": "text",
    "id": "LRwyQm9HTF6a"
   },
   "source": [
    "As we dont have any missing values in Dates and times, Lets put them aside from imputation task."
   ]
  },
  {
   "cell_type": "code",
   "execution_count": 42,
   "metadata": {
    "colab": {
     "base_uri": "https://localhost:8080/",
     "height": 119
    },
    "colab_type": "code",
    "id": "HVxvQ1peTgLT",
    "outputId": "cc8d4cc6-b746-49fa-a14b-a37e87b82df0"
   },
   "outputs": [
    {
     "data": {
      "text/plain": [
       "Index(['City', 'Product Type', 'Trip or Order Status', 'Request Time',\n",
       "       'Begin Trip Time', 'Begin Trip Lat', 'Begin Trip Lng',\n",
       "       'Begin Trip Address', 'Dropoff Time', 'Dropoff Lat', 'Dropoff Lng',\n",
       "       'Dropoff Address', 'Distance (miles)', 'Fare Amount', 'Fare Currency',\n",
       "       'Time Enlapsed'],\n",
       "      dtype='object')"
      ]
     },
     "execution_count": 42,
     "metadata": {
      "tags": []
     },
     "output_type": "execute_result"
    }
   ],
   "source": [
    "DATA.columns"
   ]
  },
  {
   "cell_type": "code",
   "execution_count": 0,
   "metadata": {
    "colab": {},
    "colab_type": "code",
    "id": "OZIVFiiPTFTJ"
   },
   "outputs": [],
   "source": [
    "data = DATA[['City', 'Product Type', 'Trip or Order Status','Begin Trip Lat', 'Begin Trip Lng','Dropoff Lat', 'Dropoff Lng','Distance (miles)', 'Fare Amount', 'Fare Currency']]"
   ]
  },
  {
   "cell_type": "code",
   "execution_count": 45,
   "metadata": {
    "colab": {
     "base_uri": "https://localhost:8080/",
     "height": 111
    },
    "colab_type": "code",
    "id": "14QghxbETqz5",
    "outputId": "2e01f75b-3edf-4118-ee19-bc12db774902"
   },
   "outputs": [
    {
     "data": {
      "text/html": [
       "<div>\n",
       "<style scoped>\n",
       "    .dataframe tbody tr th:only-of-type {\n",
       "        vertical-align: middle;\n",
       "    }\n",
       "\n",
       "    .dataframe tbody tr th {\n",
       "        vertical-align: top;\n",
       "    }\n",
       "\n",
       "    .dataframe thead th {\n",
       "        text-align: right;\n",
       "    }\n",
       "</style>\n",
       "<table border=\"1\" class=\"dataframe\">\n",
       "  <thead>\n",
       "    <tr style=\"text-align: right;\">\n",
       "      <th></th>\n",
       "      <th>City</th>\n",
       "      <th>Product Type</th>\n",
       "      <th>Trip or Order Status</th>\n",
       "      <th>Begin Trip Lat</th>\n",
       "      <th>Begin Trip Lng</th>\n",
       "      <th>Dropoff Lat</th>\n",
       "      <th>Dropoff Lng</th>\n",
       "      <th>Distance (miles)</th>\n",
       "      <th>Fare Amount</th>\n",
       "      <th>Fare Currency</th>\n",
       "    </tr>\n",
       "  </thead>\n",
       "  <tbody>\n",
       "    <tr>\n",
       "      <th>0</th>\n",
       "      <td>Chennai</td>\n",
       "      <td>UberGO</td>\n",
       "      <td>COMPLETED</td>\n",
       "      <td>12.921608</td>\n",
       "      <td>80.128456</td>\n",
       "      <td>12.840779</td>\n",
       "      <td>80.137059</td>\n",
       "      <td>10.48</td>\n",
       "      <td>236.65</td>\n",
       "      <td>INR</td>\n",
       "    </tr>\n",
       "    <tr>\n",
       "      <th>1</th>\n",
       "      <td>Chennai</td>\n",
       "      <td>UberGO</td>\n",
       "      <td>COMPLETED</td>\n",
       "      <td>12.835309</td>\n",
       "      <td>80.135984</td>\n",
       "      <td>12.921531</td>\n",
       "      <td>80.128281</td>\n",
       "      <td>13.07</td>\n",
       "      <td>257.16</td>\n",
       "      <td>INR</td>\n",
       "    </tr>\n",
       "  </tbody>\n",
       "</table>\n",
       "</div>"
      ],
      "text/plain": [
       "      City Product Type  ... Fare Amount  Fare Currency\n",
       "0  Chennai       UberGO  ...      236.65            INR\n",
       "1  Chennai       UberGO  ...      257.16            INR\n",
       "\n",
       "[2 rows x 10 columns]"
      ]
     },
     "execution_count": 45,
     "metadata": {
      "tags": []
     },
     "output_type": "execute_result"
    }
   ],
   "source": [
    "data.head(2)"
   ]
  },
  {
   "cell_type": "markdown",
   "metadata": {
    "colab_type": "text",
    "id": "LD-oQ5WYT7yZ"
   },
   "source": [
    "#Label encoding:"
   ]
  },
  {
   "cell_type": "code",
   "execution_count": 0,
   "metadata": {
    "colab": {},
    "colab_type": "code",
    "id": "qKtBKX1qeNGr"
   },
   "outputs": [],
   "source": [
    "def label_encode_categorical_cols(dataframe):\n",
    "\n",
    "  categorical_col = []\n",
    "\n",
    "  for i in dataframe.columns:\n",
    "    if (dataframe[i].dtypes) == 'object':\n",
    "      categorical_col.append(i)\n",
    "\n",
    "  for i in categorical_col:  # Ensures not to encode the Nan values:\n",
    "    \n",
    "    x = list(dataframe[i].unique())\n",
    "\n",
    "    for index, value in enumerate(x):\n",
    "      if isinstance(value, float):\n",
    "\n",
    "        nan_index = index\n",
    "\n",
    "        del x[nan_index]\n",
    "\n",
    "    dict_ = {}\n",
    "    \n",
    "    for index, value in enumerate(x):\n",
    "      dict_.update({value:index})\n",
    "    \n",
    "    dataframe[i] = dataframe.loc[:,i].map(dict_)\n",
    "  \n",
    "  return dataframe"
   ]
  },
  {
   "cell_type": "code",
   "execution_count": 47,
   "metadata": {
    "colab": {
     "base_uri": "https://localhost:8080/",
     "height": 102
    },
    "colab_type": "code",
    "id": "33iBN9ZVl5qh",
    "outputId": "6a34e505-8a73-4836-b8ff-71a732e963ea"
   },
   "outputs": [
    {
     "name": "stderr",
     "output_type": "stream",
     "text": [
      "/usr/local/lib/python3.6/dist-packages/ipykernel_launcher.py:25: SettingWithCopyWarning: \n",
      "A value is trying to be set on a copy of a slice from a DataFrame.\n",
      "Try using .loc[row_indexer,col_indexer] = value instead\n",
      "\n",
      "See the caveats in the documentation: https://pandas.pydata.org/pandas-docs/stable/user_guide/indexing.html#returning-a-view-versus-a-copy\n"
     ]
    }
   ],
   "source": [
    "data = label_encode_categorical_cols(data)"
   ]
  },
  {
   "cell_type": "code",
   "execution_count": 49,
   "metadata": {
    "colab": {
     "base_uri": "https://localhost:8080/",
     "height": 111
    },
    "colab_type": "code",
    "id": "LMoAikrLjG87",
    "outputId": "9ba359c4-6ea0-4d85-db0f-1399a39db417"
   },
   "outputs": [
    {
     "data": {
      "text/html": [
       "<div>\n",
       "<style scoped>\n",
       "    .dataframe tbody tr th:only-of-type {\n",
       "        vertical-align: middle;\n",
       "    }\n",
       "\n",
       "    .dataframe tbody tr th {\n",
       "        vertical-align: top;\n",
       "    }\n",
       "\n",
       "    .dataframe thead th {\n",
       "        text-align: right;\n",
       "    }\n",
       "</style>\n",
       "<table border=\"1\" class=\"dataframe\">\n",
       "  <thead>\n",
       "    <tr style=\"text-align: right;\">\n",
       "      <th></th>\n",
       "      <th>City</th>\n",
       "      <th>Product Type</th>\n",
       "      <th>Trip or Order Status</th>\n",
       "      <th>Begin Trip Lat</th>\n",
       "      <th>Begin Trip Lng</th>\n",
       "      <th>Dropoff Lat</th>\n",
       "      <th>Dropoff Lng</th>\n",
       "      <th>Distance (miles)</th>\n",
       "      <th>Fare Amount</th>\n",
       "      <th>Fare Currency</th>\n",
       "    </tr>\n",
       "  </thead>\n",
       "  <tbody>\n",
       "    <tr>\n",
       "      <th>0</th>\n",
       "      <td>0</td>\n",
       "      <td>0.0</td>\n",
       "      <td>0</td>\n",
       "      <td>12.921608</td>\n",
       "      <td>80.128456</td>\n",
       "      <td>12.840779</td>\n",
       "      <td>80.137059</td>\n",
       "      <td>10.48</td>\n",
       "      <td>236.65</td>\n",
       "      <td>0.0</td>\n",
       "    </tr>\n",
       "    <tr>\n",
       "      <th>1</th>\n",
       "      <td>0</td>\n",
       "      <td>0.0</td>\n",
       "      <td>0</td>\n",
       "      <td>12.835309</td>\n",
       "      <td>80.135984</td>\n",
       "      <td>12.921531</td>\n",
       "      <td>80.128281</td>\n",
       "      <td>13.07</td>\n",
       "      <td>257.16</td>\n",
       "      <td>0.0</td>\n",
       "    </tr>\n",
       "  </tbody>\n",
       "</table>\n",
       "</div>"
      ],
      "text/plain": [
       "   City  Product Type  ...  Fare Amount  Fare Currency\n",
       "0     0           0.0  ...       236.65            0.0\n",
       "1     0           0.0  ...       257.16            0.0\n",
       "\n",
       "[2 rows x 10 columns]"
      ]
     },
     "execution_count": 49,
     "metadata": {
      "tags": []
     },
     "output_type": "execute_result"
    }
   ],
   "source": [
    "data.head(2)"
   ]
  },
  {
   "cell_type": "markdown",
   "metadata": {
    "colab_type": "text",
    "id": "QhE-oRHvmvrw"
   },
   "source": [
    "#KNN Imputation:"
   ]
  },
  {
   "cell_type": "code",
   "execution_count": 50,
   "metadata": {
    "colab": {
     "base_uri": "https://localhost:8080/",
     "height": 111
    },
    "colab_type": "code",
    "id": "vVAzTo4pmxTW",
    "outputId": "9d0c76a1-90f6-49fa-eed1-01369631cea5"
   },
   "outputs": [
    {
     "data": {
      "text/html": [
       "<div>\n",
       "<style scoped>\n",
       "    .dataframe tbody tr th:only-of-type {\n",
       "        vertical-align: middle;\n",
       "    }\n",
       "\n",
       "    .dataframe tbody tr th {\n",
       "        vertical-align: top;\n",
       "    }\n",
       "\n",
       "    .dataframe thead th {\n",
       "        text-align: right;\n",
       "    }\n",
       "</style>\n",
       "<table border=\"1\" class=\"dataframe\">\n",
       "  <thead>\n",
       "    <tr style=\"text-align: right;\">\n",
       "      <th></th>\n",
       "      <th>City</th>\n",
       "      <th>Product Type</th>\n",
       "      <th>Trip or Order Status</th>\n",
       "      <th>Begin Trip Lat</th>\n",
       "      <th>Begin Trip Lng</th>\n",
       "      <th>Dropoff Lat</th>\n",
       "      <th>Dropoff Lng</th>\n",
       "      <th>Distance (miles)</th>\n",
       "      <th>Fare Amount</th>\n",
       "      <th>Fare Currency</th>\n",
       "    </tr>\n",
       "  </thead>\n",
       "  <tbody>\n",
       "    <tr>\n",
       "      <th>0</th>\n",
       "      <td>0.0</td>\n",
       "      <td>0.0</td>\n",
       "      <td>0.0</td>\n",
       "      <td>12.921608</td>\n",
       "      <td>80.128456</td>\n",
       "      <td>12.840779</td>\n",
       "      <td>80.137059</td>\n",
       "      <td>10.48</td>\n",
       "      <td>236.65</td>\n",
       "      <td>0.0</td>\n",
       "    </tr>\n",
       "    <tr>\n",
       "      <th>1</th>\n",
       "      <td>0.0</td>\n",
       "      <td>0.0</td>\n",
       "      <td>0.0</td>\n",
       "      <td>12.835309</td>\n",
       "      <td>80.135984</td>\n",
       "      <td>12.921531</td>\n",
       "      <td>80.128281</td>\n",
       "      <td>13.07</td>\n",
       "      <td>257.16</td>\n",
       "      <td>0.0</td>\n",
       "    </tr>\n",
       "  </tbody>\n",
       "</table>\n",
       "</div>"
      ],
      "text/plain": [
       "   City  Product Type  ...  Fare Amount  Fare Currency\n",
       "0   0.0           0.0  ...       236.65            0.0\n",
       "1   0.0           0.0  ...       257.16            0.0\n",
       "\n",
       "[2 rows x 10 columns]"
      ]
     },
     "execution_count": 50,
     "metadata": {
      "tags": []
     },
     "output_type": "execute_result"
    }
   ],
   "source": [
    "my_imputer = KNNImputer(n_neighbors=5)\n",
    "imputed_my_data = pd.DataFrame(my_imputer.fit_transform(data))\n",
    "\n",
    "# Fill in the lines below: imputation removed column names; put them back\n",
    "imputed_my_data.columns = data.columns\n",
    "imputed_my_data.index = data.index\n",
    "\n",
    "imputed_my_data.head(2)"
   ]
  },
  {
   "cell_type": "markdown",
   "metadata": {
    "colab_type": "text",
    "id": "2aVVEQ0T9jT2"
   },
   "source": [
    "As KNN Imputation imputes using finding Mean value from its neighbours, we round the value and clean the imputed dataset."
   ]
  },
  {
   "cell_type": "code",
   "execution_count": 0,
   "metadata": {
    "colab": {},
    "colab_type": "code",
    "id": "vU0QUbKxnWlN"
   },
   "outputs": [],
   "source": [
    "def clean_dataset(data,col):\n",
    "\n",
    "  subset_data = data.drop(col,axis=1).copy(deep=True)\n",
    "\n",
    "  for index,value in enumerate(col):\n",
    "    list_ = []\n",
    "    for j in data[value]:\n",
    "      list_.append(round(j))\n",
    "    \n",
    "    x = {value:list_}\n",
    "    if index == 0:\n",
    "      df = pd.DataFrame(x)\n",
    "    else:\n",
    "      df[value] = pd.DataFrame(x)\n",
    "  \n",
    "  final_data = pd.concat([df,subset_data], axis=1)\n",
    "\n",
    "  return final_data"
   ]
  },
  {
   "cell_type": "code",
   "execution_count": 0,
   "metadata": {
    "colab": {},
    "colab_type": "code",
    "id": "xMfHQRUl9_Y4"
   },
   "outputs": [],
   "source": [
    "categorical_col = ['City','Product Type', 'Trip or Order Status', 'Fare Currency']"
   ]
  },
  {
   "cell_type": "code",
   "execution_count": 53,
   "metadata": {
    "colab": {
     "base_uri": "https://localhost:8080/",
     "height": 111
    },
    "colab_type": "code",
    "id": "cMNJpuSEn5Bj",
    "outputId": "b7e83e30-bc5a-4ace-d9ec-5f3b85297280"
   },
   "outputs": [
    {
     "data": {
      "text/html": [
       "<div>\n",
       "<style scoped>\n",
       "    .dataframe tbody tr th:only-of-type {\n",
       "        vertical-align: middle;\n",
       "    }\n",
       "\n",
       "    .dataframe tbody tr th {\n",
       "        vertical-align: top;\n",
       "    }\n",
       "\n",
       "    .dataframe thead th {\n",
       "        text-align: right;\n",
       "    }\n",
       "</style>\n",
       "<table border=\"1\" class=\"dataframe\">\n",
       "  <thead>\n",
       "    <tr style=\"text-align: right;\">\n",
       "      <th></th>\n",
       "      <th>City</th>\n",
       "      <th>Product Type</th>\n",
       "      <th>Trip or Order Status</th>\n",
       "      <th>Fare Currency</th>\n",
       "      <th>Begin Trip Lat</th>\n",
       "      <th>Begin Trip Lng</th>\n",
       "      <th>Dropoff Lat</th>\n",
       "      <th>Dropoff Lng</th>\n",
       "      <th>Distance (miles)</th>\n",
       "      <th>Fare Amount</th>\n",
       "    </tr>\n",
       "  </thead>\n",
       "  <tbody>\n",
       "    <tr>\n",
       "      <th>0</th>\n",
       "      <td>0</td>\n",
       "      <td>0</td>\n",
       "      <td>0</td>\n",
       "      <td>0</td>\n",
       "      <td>12.921608</td>\n",
       "      <td>80.128456</td>\n",
       "      <td>12.840779</td>\n",
       "      <td>80.137059</td>\n",
       "      <td>10.48</td>\n",
       "      <td>236.65</td>\n",
       "    </tr>\n",
       "    <tr>\n",
       "      <th>1</th>\n",
       "      <td>0</td>\n",
       "      <td>0</td>\n",
       "      <td>0</td>\n",
       "      <td>0</td>\n",
       "      <td>12.835309</td>\n",
       "      <td>80.135984</td>\n",
       "      <td>12.921531</td>\n",
       "      <td>80.128281</td>\n",
       "      <td>13.07</td>\n",
       "      <td>257.16</td>\n",
       "    </tr>\n",
       "  </tbody>\n",
       "</table>\n",
       "</div>"
      ],
      "text/plain": [
       "   City  Product Type  ...  Distance (miles)  Fare Amount\n",
       "0     0             0  ...             10.48       236.65\n",
       "1     0             0  ...             13.07       257.16\n",
       "\n",
       "[2 rows x 10 columns]"
      ]
     },
     "execution_count": 53,
     "metadata": {
      "tags": []
     },
     "output_type": "execute_result"
    }
   ],
   "source": [
    "data = clean_dataset(imputed_my_data, categorical_col)\n",
    "data.head(2)"
   ]
  },
  {
   "cell_type": "markdown",
   "metadata": {
    "colab_type": "text",
    "id": "q16lwigc_FUL"
   },
   "source": [
    "Thus no missing values after Data imputation"
   ]
  },
  {
   "cell_type": "code",
   "execution_count": 54,
   "metadata": {
    "colab": {
     "base_uri": "https://localhost:8080/",
     "height": 34
    },
    "colab_type": "code",
    "id": "IFyllj6mrs9h",
    "outputId": "0eee24db-981a-4b85-ceb3-61e58db0d1b6"
   },
   "outputs": [
    {
     "name": "stdout",
     "output_type": "stream",
     "text": [
      "Series([], dtype: float64)\n"
     ]
    }
   ],
   "source": [
    "missing_values(data)"
   ]
  },
  {
   "cell_type": "markdown",
   "metadata": {
    "colab_type": "text",
    "id": "8Dpp3o7n_KS2"
   },
   "source": [
    "Convert the Latitiute and Logitude of the Begin trip location and Drop off location to Radians."
   ]
  },
  {
   "cell_type": "code",
   "execution_count": 0,
   "metadata": {
    "colab": {},
    "colab_type": "code",
    "id": "cHzWatI2sM-P"
   },
   "outputs": [],
   "source": [
    "data['Begin_trip_rad_lat'] = np.radians(data['Begin Trip Lat'].to_numpy())\n",
    "data['Begin_trip_rad_lng'] = np.radians(data['Begin Trip Lng'].to_numpy())\n",
    "\n",
    "data['Dropoff_rad_lat'] = np.radians(data['Dropoff Lat'].to_numpy())\n",
    "data['Dropoff_rad_lng'] = np.radians(data['Dropoff Lng'].to_numpy())"
   ]
  },
  {
   "cell_type": "code",
   "execution_count": 56,
   "metadata": {
    "colab": {
     "base_uri": "https://localhost:8080/",
     "height": 145
    },
    "colab_type": "code",
    "id": "7VSPf8kgtWZg",
    "outputId": "0aca0d55-d981-4b6d-f187-aa0f0a336865"
   },
   "outputs": [
    {
     "data": {
      "text/html": [
       "<div>\n",
       "<style scoped>\n",
       "    .dataframe tbody tr th:only-of-type {\n",
       "        vertical-align: middle;\n",
       "    }\n",
       "\n",
       "    .dataframe tbody tr th {\n",
       "        vertical-align: top;\n",
       "    }\n",
       "\n",
       "    .dataframe thead th {\n",
       "        text-align: right;\n",
       "    }\n",
       "</style>\n",
       "<table border=\"1\" class=\"dataframe\">\n",
       "  <thead>\n",
       "    <tr style=\"text-align: right;\">\n",
       "      <th></th>\n",
       "      <th>City</th>\n",
       "      <th>Product Type</th>\n",
       "      <th>Trip or Order Status</th>\n",
       "      <th>Fare Currency</th>\n",
       "      <th>Begin Trip Lat</th>\n",
       "      <th>Begin Trip Lng</th>\n",
       "      <th>Dropoff Lat</th>\n",
       "      <th>Dropoff Lng</th>\n",
       "      <th>Distance (miles)</th>\n",
       "      <th>Fare Amount</th>\n",
       "      <th>Begin_trip_rad_lat</th>\n",
       "      <th>Begin_trip_rad_lng</th>\n",
       "      <th>Dropoff_rad_lat</th>\n",
       "      <th>Dropoff_rad_lng</th>\n",
       "    </tr>\n",
       "  </thead>\n",
       "  <tbody>\n",
       "    <tr>\n",
       "      <th>0</th>\n",
       "      <td>0</td>\n",
       "      <td>0</td>\n",
       "      <td>0</td>\n",
       "      <td>0</td>\n",
       "      <td>12.921608</td>\n",
       "      <td>80.128456</td>\n",
       "      <td>12.840779</td>\n",
       "      <td>80.137059</td>\n",
       "      <td>10.48</td>\n",
       "      <td>236.65</td>\n",
       "      <td>0.225525</td>\n",
       "      <td>1.398505</td>\n",
       "      <td>0.224114</td>\n",
       "      <td>1.398656</td>\n",
       "    </tr>\n",
       "    <tr>\n",
       "      <th>1</th>\n",
       "      <td>0</td>\n",
       "      <td>0</td>\n",
       "      <td>0</td>\n",
       "      <td>0</td>\n",
       "      <td>12.835309</td>\n",
       "      <td>80.135984</td>\n",
       "      <td>12.921531</td>\n",
       "      <td>80.128281</td>\n",
       "      <td>13.07</td>\n",
       "      <td>257.16</td>\n",
       "      <td>0.224018</td>\n",
       "      <td>1.398637</td>\n",
       "      <td>0.225523</td>\n",
       "      <td>1.398502</td>\n",
       "    </tr>\n",
       "  </tbody>\n",
       "</table>\n",
       "</div>"
      ],
      "text/plain": [
       "   City  Product Type  ...  Dropoff_rad_lat  Dropoff_rad_lng\n",
       "0     0             0  ...         0.224114         1.398656\n",
       "1     0             0  ...         0.225523         1.398502\n",
       "\n",
       "[2 rows x 14 columns]"
      ]
     },
     "execution_count": 56,
     "metadata": {
      "tags": []
     },
     "output_type": "execute_result"
    }
   ],
   "source": [
    "data.head(2)"
   ]
  },
  {
   "cell_type": "markdown",
   "metadata": {
    "colab_type": "text",
    "id": "gPuk19l6_Tzj"
   },
   "source": [
    "#DBSCAN:\n",
    "\n",
    "We use it to find the outliers and remove them"
   ]
  },
  {
   "cell_type": "code",
   "execution_count": 0,
   "metadata": {
    "colab": {},
    "colab_type": "code",
    "id": "IUp_gNNuuH_s"
   },
   "outputs": [],
   "source": [
    "eps_in_meters = 50.0\n",
    "num_samples = 10"
   ]
  },
  {
   "cell_type": "code",
   "execution_count": 0,
   "metadata": {
    "colab": {},
    "colab_type": "code",
    "id": "eP6AEAKvuH8O"
   },
   "outputs": [],
   "source": [
    "from sklearn.cluster import DBSCAN\n",
    "\n",
    "earth_perimeter = 40070000.0  # In meters\n",
    "eps_in_radians = eps_in_meters / earth_perimeter * (2 * math.pi)\n",
    "\n",
    "data['begin_trip_cluster'] = DBSCAN(eps=eps_in_radians, min_samples=num_samples, metric='haversine').fit_predict(data[['Dropoff_rad_lat', 'Dropoff_rad_lng']])\n",
    "data['dropoff_cluster'] = DBSCAN(eps=eps_in_radians, min_samples=num_samples, metric='haversine').fit_predict(data[['Dropoff_rad_lat', 'Dropoff_rad_lng']])"
   ]
  },
  {
   "cell_type": "code",
   "execution_count": 59,
   "metadata": {
    "colab": {
     "base_uri": "https://localhost:8080/",
     "height": 182
    },
    "colab_type": "code",
    "id": "Cm83-UziuH1s",
    "outputId": "6b5b0cad-4abe-46d4-da65-bc2ab57905ca"
   },
   "outputs": [
    {
     "data": {
      "text/html": [
       "<div>\n",
       "<style scoped>\n",
       "    .dataframe tbody tr th:only-of-type {\n",
       "        vertical-align: middle;\n",
       "    }\n",
       "\n",
       "    .dataframe tbody tr th {\n",
       "        vertical-align: top;\n",
       "    }\n",
       "\n",
       "    .dataframe thead th {\n",
       "        text-align: right;\n",
       "    }\n",
       "</style>\n",
       "<table border=\"1\" class=\"dataframe\">\n",
       "  <thead>\n",
       "    <tr style=\"text-align: right;\">\n",
       "      <th></th>\n",
       "      <th>City</th>\n",
       "      <th>Product Type</th>\n",
       "      <th>Trip or Order Status</th>\n",
       "      <th>Fare Currency</th>\n",
       "      <th>Begin Trip Lat</th>\n",
       "      <th>Begin Trip Lng</th>\n",
       "      <th>Dropoff Lat</th>\n",
       "      <th>Dropoff Lng</th>\n",
       "      <th>Distance (miles)</th>\n",
       "      <th>Fare Amount</th>\n",
       "      <th>Begin_trip_rad_lat</th>\n",
       "      <th>Begin_trip_rad_lng</th>\n",
       "      <th>Dropoff_rad_lat</th>\n",
       "      <th>Dropoff_rad_lng</th>\n",
       "      <th>begin_trip_cluster</th>\n",
       "      <th>dropoff_cluster</th>\n",
       "    </tr>\n",
       "  </thead>\n",
       "  <tbody>\n",
       "    <tr>\n",
       "      <th>0</th>\n",
       "      <td>0</td>\n",
       "      <td>0</td>\n",
       "      <td>0</td>\n",
       "      <td>0</td>\n",
       "      <td>12.921608</td>\n",
       "      <td>80.128456</td>\n",
       "      <td>12.840779</td>\n",
       "      <td>80.137059</td>\n",
       "      <td>10.48</td>\n",
       "      <td>236.65</td>\n",
       "      <td>0.225525</td>\n",
       "      <td>1.398505</td>\n",
       "      <td>0.224114</td>\n",
       "      <td>1.398656</td>\n",
       "      <td>-1</td>\n",
       "      <td>-1</td>\n",
       "    </tr>\n",
       "    <tr>\n",
       "      <th>1</th>\n",
       "      <td>0</td>\n",
       "      <td>0</td>\n",
       "      <td>0</td>\n",
       "      <td>0</td>\n",
       "      <td>12.835309</td>\n",
       "      <td>80.135984</td>\n",
       "      <td>12.921531</td>\n",
       "      <td>80.128281</td>\n",
       "      <td>13.07</td>\n",
       "      <td>257.16</td>\n",
       "      <td>0.224018</td>\n",
       "      <td>1.398637</td>\n",
       "      <td>0.225523</td>\n",
       "      <td>1.398502</td>\n",
       "      <td>-1</td>\n",
       "      <td>-1</td>\n",
       "    </tr>\n",
       "  </tbody>\n",
       "</table>\n",
       "</div>"
      ],
      "text/plain": [
       "   City  Product Type  ...  begin_trip_cluster  dropoff_cluster\n",
       "0     0             0  ...                  -1               -1\n",
       "1     0             0  ...                  -1               -1\n",
       "\n",
       "[2 rows x 16 columns]"
      ]
     },
     "execution_count": 59,
     "metadata": {
      "tags": []
     },
     "output_type": "execute_result"
    }
   ],
   "source": [
    "data.head(2)"
   ]
  },
  {
   "cell_type": "markdown",
   "metadata": {
    "colab_type": "text",
    "id": "Wlw5suyx_a5D"
   },
   "source": [
    "hexagon level is basically the area covered by the hexagons on the Map. Bigger the value, smaller the area it covers."
   ]
  },
  {
   "cell_type": "code",
   "execution_count": 0,
   "metadata": {
    "colab": {},
    "colab_type": "code",
    "id": "QJZ6Nksyu4-L"
   },
   "outputs": [],
   "source": [
    "h3_level = 10"
   ]
  },
  {
   "cell_type": "markdown",
   "metadata": {
    "colab_type": "text",
    "id": "fMDezLAK_pSw"
   },
   "source": [
    "Convert the Geo location (Latitute and Longitude) into hexagons"
   ]
  },
  {
   "cell_type": "code",
   "execution_count": 0,
   "metadata": {
    "colab": {},
    "colab_type": "code",
    "id": "GSB516ixu459"
   },
   "outputs": [],
   "source": [
    "def begin_trip_lat_lng_to_h3(row):\n",
    "    return h3.geo_to_h3(row['Begin Trip Lat'], row['Begin Trip Lng'], h3_level)\n",
    "\n",
    "def dropoff_lat_lng_to_h3(row):\n",
    "    return h3.geo_to_h3(row['Dropoff Lat'], row['Dropoff Lng'], h3_level)"
   ]
  },
  {
   "cell_type": "markdown",
   "metadata": {
    "colab_type": "text",
    "id": "IV4vEPdsAUYM"
   },
   "source": [
    "Making two columns of hexagon values. One of Begin trip and another of Drop off."
   ]
  },
  {
   "cell_type": "code",
   "execution_count": 0,
   "metadata": {
    "colab": {},
    "colab_type": "code",
    "id": "_dBu4vOFu40H"
   },
   "outputs": [],
   "source": [
    "data['begin_trip_h3'] = data.apply(begin_trip_lat_lng_to_h3, axis=1)"
   ]
  },
  {
   "cell_type": "code",
   "execution_count": 0,
   "metadata": {
    "colab": {},
    "colab_type": "code",
    "id": "ZWKSr4WM0-us"
   },
   "outputs": [],
   "source": [
    "data['dropoff_h3'] = data.apply(dropoff_lat_lng_to_h3, axis=1)"
   ]
  },
  {
   "cell_type": "code",
   "execution_count": 64,
   "metadata": {
    "colab": {
     "base_uri": "https://localhost:8080/",
     "height": 182
    },
    "colab_type": "code",
    "id": "a1kDrCYl1Plg",
    "outputId": "3d62e865-1499-40c9-b31c-ba6679810344"
   },
   "outputs": [
    {
     "data": {
      "text/html": [
       "<div>\n",
       "<style scoped>\n",
       "    .dataframe tbody tr th:only-of-type {\n",
       "        vertical-align: middle;\n",
       "    }\n",
       "\n",
       "    .dataframe tbody tr th {\n",
       "        vertical-align: top;\n",
       "    }\n",
       "\n",
       "    .dataframe thead th {\n",
       "        text-align: right;\n",
       "    }\n",
       "</style>\n",
       "<table border=\"1\" class=\"dataframe\">\n",
       "  <thead>\n",
       "    <tr style=\"text-align: right;\">\n",
       "      <th></th>\n",
       "      <th>City</th>\n",
       "      <th>Product Type</th>\n",
       "      <th>Trip or Order Status</th>\n",
       "      <th>Fare Currency</th>\n",
       "      <th>Begin Trip Lat</th>\n",
       "      <th>Begin Trip Lng</th>\n",
       "      <th>Dropoff Lat</th>\n",
       "      <th>Dropoff Lng</th>\n",
       "      <th>Distance (miles)</th>\n",
       "      <th>Fare Amount</th>\n",
       "      <th>Begin_trip_rad_lat</th>\n",
       "      <th>Begin_trip_rad_lng</th>\n",
       "      <th>Dropoff_rad_lat</th>\n",
       "      <th>Dropoff_rad_lng</th>\n",
       "      <th>begin_trip_cluster</th>\n",
       "      <th>dropoff_cluster</th>\n",
       "      <th>begin_trip_h3</th>\n",
       "      <th>dropoff_h3</th>\n",
       "    </tr>\n",
       "  </thead>\n",
       "  <tbody>\n",
       "    <tr>\n",
       "      <th>0</th>\n",
       "      <td>0</td>\n",
       "      <td>0</td>\n",
       "      <td>0</td>\n",
       "      <td>0</td>\n",
       "      <td>12.921608</td>\n",
       "      <td>80.128456</td>\n",
       "      <td>12.840779</td>\n",
       "      <td>80.137059</td>\n",
       "      <td>10.48</td>\n",
       "      <td>236.65</td>\n",
       "      <td>0.225525</td>\n",
       "      <td>1.398505</td>\n",
       "      <td>0.224114</td>\n",
       "      <td>1.398656</td>\n",
       "      <td>-1</td>\n",
       "      <td>-1</td>\n",
       "      <td>8a618c45eaf7fff</td>\n",
       "      <td>8a618c445177fff</td>\n",
       "    </tr>\n",
       "    <tr>\n",
       "      <th>1</th>\n",
       "      <td>0</td>\n",
       "      <td>0</td>\n",
       "      <td>0</td>\n",
       "      <td>0</td>\n",
       "      <td>12.835309</td>\n",
       "      <td>80.135984</td>\n",
       "      <td>12.921531</td>\n",
       "      <td>80.128281</td>\n",
       "      <td>13.07</td>\n",
       "      <td>257.16</td>\n",
       "      <td>0.224018</td>\n",
       "      <td>1.398637</td>\n",
       "      <td>0.225523</td>\n",
       "      <td>1.398502</td>\n",
       "      <td>-1</td>\n",
       "      <td>-1</td>\n",
       "      <td>8a618c44584ffff</td>\n",
       "      <td>8a618c45eaf7fff</td>\n",
       "    </tr>\n",
       "  </tbody>\n",
       "</table>\n",
       "</div>"
      ],
      "text/plain": [
       "   City  Product Type  ...    begin_trip_h3       dropoff_h3\n",
       "0     0             0  ...  8a618c45eaf7fff  8a618c445177fff\n",
       "1     0             0  ...  8a618c44584ffff  8a618c45eaf7fff\n",
       "\n",
       "[2 rows x 18 columns]"
      ]
     },
     "execution_count": 64,
     "metadata": {
      "tags": []
     },
     "output_type": "execute_result"
    }
   ],
   "source": [
    "data.head(2)"
   ]
  },
  {
   "cell_type": "markdown",
   "metadata": {
    "colab_type": "text",
    "id": "g8D_PQorAfKM"
   },
   "source": [
    "Copy the records which arent the outliers."
   ]
  },
  {
   "cell_type": "code",
   "execution_count": 0,
   "metadata": {
    "colab": {},
    "colab_type": "code",
    "id": "RJ0s_m-S1XXY"
   },
   "outputs": [],
   "source": [
    "df_begin_trip = data[data.begin_trip_cluster != -1].copy(deep=True)\n",
    "df_dropoff = data[data.dropoff_cluster != -1].copy(deep=True)"
   ]
  },
  {
   "cell_type": "markdown",
   "metadata": {
    "colab_type": "text",
    "id": "n_PafydEAzdO"
   },
   "source": [
    "Function to develop the Folium map. "
   ]
  },
  {
   "cell_type": "code",
   "execution_count": 0,
   "metadata": {
    "colab": {},
    "colab_type": "code",
    "id": "JZSGZhNd1085"
   },
   "outputs": [],
   "source": [
    "def create_map(clusters,dataframe,choice):\n",
    "    # Create the map object\n",
    "    map = folium.Map(tiles=\"cartodbpositron\", \n",
    "          attr= '© <a href=\"http://www.openstreetmap.org/copyright\">OpenStreetMap</a> contributors © <a href=\"http://cartodb.com/attributions#basemaps\">CartoDB</a>')\n",
    "\n",
    "    # Convert the clusters dictionary items to polygons and add them to the map\n",
    "    for cluster in clusters.values():\n",
    "        points = cluster['geom']\n",
    "\n",
    "        tooltip = \"{0} location\".format(cluster['count'])\n",
    "        polygon = folium.vector_layers.Polygon(locations=points, tooltip=tooltip,\n",
    "                                               fill=False, \n",
    "                                               color='#008000', \n",
    "                                               fill_color='#008000', \n",
    "                                               fill_opacity=0.4, weight=3, opacity=0.4)\n",
    "        polygon.add_to(map)\n",
    "\n",
    "    # Determine the map bounding box\n",
    "\n",
    "    if choice == 0:\n",
    "      max_lat = dataframe['Begin Trip Lat'].max()\n",
    "      min_lat = dataframe['Begin Trip Lat'].min()\n",
    "      max_lon = dataframe['Begin Trip Lng'].max()\n",
    "      min_lon = dataframe['Begin Trip Lng'].min()\n",
    "\n",
    "      map.fit_bounds([[min_lat, min_lon], [max_lat, max_lon]])\n",
    "    \n",
    "    if choice == 1:\n",
    "      max_lat = dataframe['Dropoff Lat'].max()\n",
    "      min_lat = dataframe['Dropoff Lat'].min()\n",
    "      max_lon = dataframe['Dropoff Lng'].max()\n",
    "      min_lon = dataframe['Dropoff Lng'].min()\n",
    "\n",
    "      map.fit_bounds([[min_lat, min_lon], [max_lat, max_lon]])\n",
    "\n",
    "    \n",
    "    return map"
   ]
  },
  {
   "cell_type": "markdown",
   "metadata": {
    "colab_type": "text",
    "id": "KU-aK5pOBD4P"
   },
   "source": [
    "Function to save the Map as a HTML file which can be opened by a browser"
   ]
  },
  {
   "cell_type": "code",
   "execution_count": 0,
   "metadata": {
    "colab": {},
    "colab_type": "code",
    "id": "-PXI_a8N7McM"
   },
   "outputs": [],
   "source": [
    "def show_map(map, file_name):\n",
    "    map.save(file_name)\n",
    "    wb = webbrowser.open('file://' + os.path.realpath(file_name), new=2)"
   ]
  },
  {
   "cell_type": "markdown",
   "metadata": {
    "colab_type": "text",
    "id": "yU3CpL8P2qPc"
   },
   "source": [
    "Begin Trip Clusters:"
   ]
  },
  {
   "cell_type": "code",
   "execution_count": 0,
   "metadata": {
    "colab": {},
    "colab_type": "code",
    "id": "FsrWuUzA2jF4"
   },
   "outputs": [],
   "source": [
    "begin_trip_clusters = dict()\n",
    "\n",
    "for index, row in df_begin_trip.iterrows():\n",
    "    key = row['begin_trip_h3']\n",
    "    if key in begin_trip_clusters:\n",
    "        begin_trip_clusters[key]['count'] += 1\n",
    "    else:\n",
    "        begin_trip_clusters[key] = {\"count\": 1,\n",
    "                         \"geom\": h3.h3_to_geo_boundary(h3_address=key)}"
   ]
  },
  {
   "cell_type": "markdown",
   "metadata": {
    "colab_type": "text",
    "id": "9HZrhylM2yxr"
   },
   "source": [
    "Drop off Clusters:"
   ]
  },
  {
   "cell_type": "code",
   "execution_count": 0,
   "metadata": {
    "colab": {},
    "colab_type": "code",
    "id": "xW0eJTnK2jCZ"
   },
   "outputs": [],
   "source": [
    "dropoff_clusters = dict()\n",
    "\n",
    "for index, row in df_dropoff.iterrows():\n",
    "    key = row['dropoff_h3']\n",
    "    if key in dropoff_clusters:\n",
    "        dropoff_clusters[key]['count'] += 1\n",
    "    else:\n",
    "        dropoff_clusters[key] = {\"count\": 1,\n",
    "                         \"geom\": h3.h3_to_geo_boundary(h3_address=key)}"
   ]
  },
  {
   "cell_type": "markdown",
   "metadata": {
    "colab_type": "text",
    "id": "1ju0YU9LDjHo"
   },
   "source": [
    "# Folium Maps:"
   ]
  },
  {
   "cell_type": "markdown",
   "metadata": {
    "colab_type": "text",
    "id": "_o0oxdHd9UeD"
   },
   "source": [
    "Begin trip map:"
   ]
  },
  {
   "cell_type": "code",
   "execution_count": 56,
   "metadata": {
    "colab": {
     "base_uri": "https://localhost:8080/",
     "height": 873
    },
    "colab_type": "code",
    "id": "5ZImOPYi2i--",
    "outputId": "2dddeb43-33bc-4bdc-c136-b216141d1d4e"
   },
   "outputs": [
    {
     "data": {
      "text/html": [
       "<div style=\"width:100%;\"><div style=\"position:relative;width:100%;height:0;padding-bottom:60%;\"><iframe src=\"about:blank\" style=\"position:absolute;width:100%;height:100%;left:0;top:0;border:none !important;\" data-html=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 onload=\"this.contentDocument.open();this.contentDocument.write(atob(this.getAttribute('data-html')));this.contentDocument.close();\" allowfullscreen webkitallowfullscreen mozallowfullscreen></iframe></div></div>"
      ],
      "text/plain": [
       "<folium.folium.Map at 0x7fa3349fc898>"
      ]
     },
     "execution_count": 56,
     "metadata": {
      "tags": []
     },
     "output_type": "execute_result"
    }
   ],
   "source": [
    "map = create_map(begin_trip_clusters,df_begin_trip,0)\n",
    "# show_map(map, \"begin_trip_map_{0}.html\".format(h3_level)) # To Save the map as an HTML file.\n",
    "map"
   ]
  },
  {
   "cell_type": "markdown",
   "metadata": {
    "colab_type": "text",
    "id": "AVqQ2NKwBVaj"
   },
   "source": [
    "All the locations from where I have begin an Uber Trip has been marked by an Hexagon."
   ]
  },
  {
   "cell_type": "markdown",
   "metadata": {
    "colab_type": "text",
    "id": "oSad18Qh9Yb8"
   },
   "source": [
    "Drop off map:"
   ]
  },
  {
   "cell_type": "code",
   "execution_count": 57,
   "metadata": {
    "colab": {
     "base_uri": "https://localhost:8080/",
     "height": 873
    },
    "colab_type": "code",
    "id": "vvGsPKCe2i8D",
    "outputId": "fee8551f-796e-4bf6-bde0-5d2ff63dd747"
   },
   "outputs": [
    {
     "data": {
      "text/html": [
       "<div style=\"width:100%;\"><div style=\"position:relative;width:100%;height:0;padding-bottom:60%;\"><iframe src=\"about:blank\" style=\"position:absolute;width:100%;height:100%;left:0;top:0;border:none !important;\" data-html=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 onload=\"this.contentDocument.open();this.contentDocument.write(atob(this.getAttribute('data-html')));this.contentDocument.close();\" allowfullscreen webkitallowfullscreen mozallowfullscreen></iframe></div></div>"
      ],
      "text/plain": [
       "<folium.folium.Map at 0x7fa334a2d278>"
      ]
     },
     "execution_count": 57,
     "metadata": {
      "tags": []
     },
     "output_type": "execute_result"
    }
   ],
   "source": [
    "map = create_map(dropoff_clusters,df_dropoff,1)\n",
    "#show_map(map, \"dropoff_map_{0}.html\".format(h3_level))\n",
    "map"
   ]
  },
  {
   "cell_type": "markdown",
   "metadata": {
    "colab_type": "text",
    "id": "PAzTu2NQBdkr"
   },
   "source": [
    "All the locations to where I have booked an Uber Trip has been marked by an Hexagon."
   ]
  },
  {
   "cell_type": "markdown",
   "metadata": {
    "colab_type": "text",
    "id": "RFQh5caF85aB"
   },
   "source": [
    "#Using H3 maps:\n",
    "Till now we have used Folium now we shall use the H3 Indexing system."
   ]
  },
  {
   "cell_type": "code",
   "execution_count": 0,
   "metadata": {
    "colab": {},
    "colab_type": "code",
    "id": "4m50yJ2VBxzj"
   },
   "outputs": [],
   "source": [
    "data_ = data.copy(deep=True)"
   ]
  },
  {
   "cell_type": "code",
   "execution_count": 0,
   "metadata": {
    "colab": {},
    "colab_type": "code",
    "id": "AYRu-G9HEEPR"
   },
   "outputs": [],
   "source": [
    "data_.drop(['begin_trip_h3','dropoff_h3'],axis=1,inplace=True)"
   ]
  },
  {
   "cell_type": "code",
   "execution_count": 0,
   "metadata": {
    "colab": {},
    "colab_type": "code",
    "id": "HHFppm92Bxxu"
   },
   "outputs": [],
   "source": [
    "data_[\"dropoff_h3\"] = data.apply(lambda x: h3.geo_to_h3(x['Dropoff Lat'], x['Dropoff Lng'], 10), axis=1)"
   ]
  },
  {
   "cell_type": "code",
   "execution_count": 0,
   "metadata": {
    "colab": {},
    "colab_type": "code",
    "id": "R94j5JmmBxuF"
   },
   "outputs": [],
   "source": [
    "result = data_.groupby('dropoff_h3').count().reset_index()"
   ]
  },
  {
   "cell_type": "code",
   "execution_count": 0,
   "metadata": {
    "colab": {},
    "colab_type": "code",
    "id": "saer7013Bxqj"
   },
   "outputs": [],
   "source": [
    "m = folium.Map([12.921608, 80.128456], zoom_start=11, tiles='cartodbpositron')\n",
    "\n",
    "color_scale = folium.LinearColormap(['yellow','red'], vmin = list(data['Trip or Order Status'].unique())[1], vmax = list(data['Trip or Order Status'].unique())[0])"
   ]
  },
  {
   "cell_type": "code",
   "execution_count": 63,
   "metadata": {
    "colab": {
     "base_uri": "https://localhost:8080/",
     "height": 873
    },
    "colab_type": "code",
    "id": "Re4xNbfcFJX6",
    "outputId": "61a69d7f-3f9c-49cf-81fd-87f2a179600e"
   },
   "outputs": [
    {
     "data": {
      "text/html": [
       "<div style=\"width:100%;\"><div style=\"position:relative;width:100%;height:0;padding-bottom:60%;\"><iframe src=\"about:blank\" style=\"position:absolute;width:100%;height:100%;left:0;top:0;border:none !important;\" data-html=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 onload=\"this.contentDocument.open();this.contentDocument.write(atob(this.getAttribute('data-html')));this.contentDocument.close();\" allowfullscreen webkitallowfullscreen mozallowfullscreen></iframe></div></div>"
      ],
      "text/plain": [
       "<folium.folium.Map at 0x7fa3349c6c18>"
      ]
     },
     "metadata": {
      "tags": []
     },
     "output_type": "display_data"
    }
   ],
   "source": [
    "def get_style(feature):\n",
    "    count = result[result[\"dropoff_h3\"] == feature[\"properties\"][\"hex_id\"]][\"Trip or Order Status\"].values[0]\n",
    "    return {\n",
    "        'fillColor': 'white' if count is None else color_scale(count),\n",
    "        'color' : 'black',\n",
    "        'weight' : 1,\n",
    "        'nanFillColor': 'white',\n",
    "        'lineWeight': 0 if count is None else 1,\n",
    "        'fillOpacity':0.8,\n",
    "        'opacity':2\n",
    "    }\n",
    "\n",
    "for hx in result.dropoff_h3.values.tolist():\n",
    "\n",
    "    test = [list(reversed(l)) for l in h3.h3_to_geo_boundary(hx)]\n",
    "\n",
    "    gj = {\n",
    "           \"type\": \"Feature\",\n",
    "           \"properties\": {\n",
    "               \"hex_id\": hx\n",
    "           },\n",
    "           \"geometry\": {\"type\": \"Polygon\", \"coordinates\": [test]}\n",
    "       }\n",
    "    \n",
    "    folium.GeoJson(gj,style_function=get_style).add_to(m)\n",
    "display(m)"
   ]
  },
  {
   "cell_type": "markdown",
   "metadata": {
    "colab_type": "text",
    "id": "W5woKDNdBzzH"
   },
   "source": [
    "In the above map we can see the Dropoff latitute and Longitude where Trip status is either complete or Cancelled. Where Yellow being the locations where the trips were cancelled and Red being the locations where trips are completed."
   ]
  },
  {
   "cell_type": "code",
   "execution_count": 64,
   "metadata": {
    "colab": {
     "base_uri": "https://localhost:8080/",
     "height": 873
    },
    "colab_type": "code",
    "id": "YwrzKIWuJokK",
    "outputId": "c52c2c08-c535-438a-e14f-22e2158d447c"
   },
   "outputs": [
    {
     "data": {
      "text/html": [
       "<div style=\"width:100%;\"><div style=\"position:relative;width:100%;height:0;padding-bottom:60%;\"><iframe src=\"about:blank\" style=\"position:absolute;width:100%;height:100%;left:0;top:0;border:none !important;\" data-html=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 onload=\"this.contentDocument.open();this.contentDocument.write(atob(this.getAttribute('data-html')));this.contentDocument.close();\" allowfullscreen webkitallowfullscreen mozallowfullscreen></iframe></div></div>"
      ],
      "text/plain": [
       "<folium.folium.Map at 0x7fa334926f98>"
      ]
     },
     "metadata": {
      "tags": []
     },
     "output_type": "display_data"
    }
   ],
   "source": [
    "m = folium.Map([12.921608, 80.128456], zoom_start=11, tiles='cartodbpositron')\n",
    "\n",
    "step = cm.StepColormap(['green','yellow','red'], vmin=0, vmax=842, index=[0,1,20,50], caption='step')\n",
    "\n",
    "def get_style(feature):\n",
    "    count = result[result[\"dropoff_h3\"] == feature[\"properties\"][\"hex_id\"]][\"Fare Amount\"].sum()\n",
    "\n",
    "    return {\n",
    "        'fillColor': 'white' if count is None else step(count),\n",
    "        'color' : 'black',\n",
    "        'weight' : 1,\n",
    "        'nanFillColor': 'white',\n",
    "        'lineWeight': 0 if count is None else 1,\n",
    "        'fillOpacity':0.8,\n",
    "        'opacity':2\n",
    "    }\n",
    "\n",
    "for hx in result.dropoff_h3.values.tolist():\n",
    "\n",
    "    test = [list(reversed(l)) for l in h3.h3_to_geo_boundary(hx)]\n",
    "\n",
    "    gj = {\n",
    "           \"type\": \"Feature\",\n",
    "           \"properties\": {\n",
    "               \"hex_id\": hx\n",
    "           },\n",
    "           \"geometry\": {\"type\": \"Polygon\", \"coordinates\": [test]}\n",
    "       }\n",
    "    \n",
    "    folium.GeoJson(gj,style_function=get_style).add_to(m)\n",
    "display(m)"
   ]
  },
  {
   "cell_type": "markdown",
   "metadata": {
    "colab_type": "text",
    "id": "Gz6BjLOsCLIT"
   },
   "source": [
    "In the above map we can see that the locations where Green hexagons are present,are the one where there is low fare amount, Yellow hexagons represnt Medium fare amount and the Red hexagons represent High fare."
   ]
  },
  {
   "cell_type": "code",
   "execution_count": 0,
   "metadata": {
    "colab": {},
    "colab_type": "code",
    "id": "7kWrlc0LsNNm"
   },
   "outputs": [],
   "source": []
  }
 ],
 "metadata": {
  "accelerator": "GPU",
  "colab": {
   "collapsed_sections": [],
   "name": "Uber Analytics.ipynb",
   "provenance": []
  },
  "kernelspec": {
   "display_name": "Python 3",
   "language": "python",
   "name": "python3"
  },
  "language_info": {
   "codemirror_mode": {
    "name": "ipython",
    "version": 3
   },
   "file_extension": ".py",
   "mimetype": "text/x-python",
   "name": "python",
   "nbconvert_exporter": "python",
   "pygments_lexer": "ipython3",
   "version": "3.7.4"
  }
 },
 "nbformat": 4,
 "nbformat_minor": 1
}
